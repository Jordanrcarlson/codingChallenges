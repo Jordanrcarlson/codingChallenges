{
 "cells": [
  {
   "cell_type": "markdown",
   "metadata": {},
   "source": [
    "# CSC 110 Fall 2018\n",
    "## Assignment 0 (Worth 0% of Course)\n",
    "### DUE:  Well before 8 am on Saturday, September 15, 2018\n",
    "\n",
    "This is a practice assignment.  It lets you create, test, submit and recieve (limited) feedback, similar to the six assignments in the course. \n",
    "\n",
    "*Important Direction:*  Use **this** Jupyter notebook, creating your own python solutions in the cells provided.  **Do not** change the filename nor create your own notebook for this submission to the conneX system. (If you did, our grading program would not run and you would recieve no feedback. In assignments 1 through 6, this issue would mean a grade a 0 would be recorded.) \n",
    "\n",
    "You are encouraged to make your own notebook files and use them to experiment with Python.  Remember to copy and paste your final solutions into **this** notebook then go to conneX to submit.  "
   ]
  },
  {
   "cell_type": "markdown",
   "metadata": {},
   "source": [
    "### Program 0-A:  University Information\n",
    "\n",
    "Write and execute a Python program that displays the following information: \n",
    "-  Your university's name, \n",
    "-  Your university's address, including city, province and postal code. \n",
    "\n",
    "Include a comment before your executable Python code that includes your name and ID number"
   ]
  },
  {
   "cell_type": "code",
   "execution_count": 10,
   "metadata": {
    "Assignment": "CSC110",
    "Number": 1
   },
   "outputs": [
    {
     "name": "stdout",
     "output_type": "stream",
     "text": [
      "University Information\n"
     ]
    }
   ],
   "source": [
    "# Program 0-A:  University Information\n",
    "def main():\n",
    "#Jordan Carlson V00714886\n",
    "    print('University Information')\n",
    "    print('  University of Victoria')\n",
    "    print('  3800 Finnerty Road')\n",
    "    print('  Victoria BC V8P 5C2')\n",
    "    print('  CANADA')\n",
    "    \n",
    "\n",
    "if __name__ == '__main__':\n",
    "    main()\n"
   ]
  },
  {
   "cell_type": "markdown",
   "metadata": {},
   "source": [
    "### Program 0-B:  Sales tax in BC\n",
    "\n",
    "Write and execute a Python program that creates a `float` variable that stores the amount of a purchase, then computes and outputs the BC provincial sales tax (PST) and the Canada goods and services tax (GST).  The PST is 7% and the GST is 5%. \n",
    "\n",
    "*Assume:* The purchase amount is $47.51.\n",
    "\n",
    "*Hint:* Use the value 0.07 to represent 7% and 0.05 to represent 5%. \n",
    "\n",
    "Include a comment before your executable Python code that includes your name and ID number"
   ]
  },
  {
   "cell_type": "code",
   "execution_count": 11,
   "metadata": {
    "Assignment": "CSC110",
    "Number": 2,
    "scrolled": true
   },
   "outputs": [
    {
     "name": "stdout",
     "output_type": "stream",
     "text": [
      "Sales tax in BC\n"
     ]
    }
   ],
   "source": [
    "# Program 0-B: Sales tax in BC\n",
    "def main():\n",
    "#Jordan Carlson V00714886\n",
    "    print(\"Sales tax in BC\")\n",
    "purchase =47.51\n",
    "pst = purchase * 0.07\n",
    "gst = purchase * 0.05\n",
    "total = purchase + gst + pst\n",
    "\n",
    "print('Purchase of: ${}'.format(purchase))\n",
    "print('  PST = ', pst)\n",
    "print('  GST = ', gst)\n",
    "print('Total Purchase: ', total)\n",
    "\n",
    "if __name__ == '__main__':\n",
    "    main()\n",
    "        "
   ]
  },
  {
   "cell_type": "markdown",
   "metadata": {},
   "source": [
    "### Grading\n",
    "\n",
    "This assign is worth 0% of your course grade, but is valuable for you to ensure you are able to use the submission system.  In addition, the teaching team will provide some feedback on your code, indicating if it executes successfully.  \n",
    "\n",
    "### Submitting your Completed Solution\n",
    "\n",
    "Test your solutions carefully, (remember that your solutions need to be included in *this* notebook).   Log back into Connex and navigate to CSC 110's Assignments, Assignment 0.  Upload this notebook, then click submit.  \n",
    "\n",
    "After the notebook has been successfully submitted, an email message will be sent to your preferred UVIC email address.  You can consider your submission successful after you have received this email only.  Save this email (and all assignment submission emails) for the remainder of this course.  It may be needed to show that you have, in fact, submitted.  "
   ]
  }
 ],
 "metadata": {
  "kernelspec": {
   "display_name": "Python 3",
   "language": "python",
   "name": "python3"
  },
  "language_info": {
   "codemirror_mode": {
    "name": "ipython",
    "version": 3
   },
   "file_extension": ".py",
   "mimetype": "text/x-python",
   "name": "python",
   "nbconvert_exporter": "python",
   "pygments_lexer": "ipython3",
   "version": "3.6.4"
  }
 },
 "nbformat": 4,
 "nbformat_minor": 2
}
