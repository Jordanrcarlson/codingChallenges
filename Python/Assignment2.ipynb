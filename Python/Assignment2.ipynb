{
 "cells": [
  {
   "cell_type": "markdown",
   "metadata": {},
   "source": [
    "# CSC 110 Fall 2018\n",
    "## Assignment 2 (Worth 4% of Course)\n",
    "### DUE:  Well before 8 am on Sunday, October 7, 2018\n",
    "\n",
    "\n",
    "*Important Direction:*  Submit your results using **this** Jupyter notebook, creating your own python solutions in the cells provided.  **Do not** change the filename nor create your own notebook for this submission to the conneX system. (If you do, our grading program will not run and you will recieve a grade of 0% for this assignment.) \n",
    "\n",
    "You are encouraged to make your own notebook files and use them to experiment with Python.  Remember to copy and paste your final solutions into **this** notebook then submit via conneX.  "
   ]
  },
  {
   "cell_type": "markdown",
   "metadata": {},
   "source": [
    "## Learning Objectives\n",
    "### When you have completed this assignment you should be able to: \n",
    "\n",
    "-  Create correct Python programs using Jupyter notebooks.\n",
    "-  Submit assignments using the conneX system.\n",
    "-  Design Python programs that require conditional execution and nested loops.\n",
    "-  Write Python programs that include reading keyboard input, calculations and data output.\n",
    "-  Use Python's if, if-else and if-elif-else statements.\n",
    "-  Ensure a Python program conforms to a style guideline."
   ]
  },
  {
   "cell_type": "markdown",
   "metadata": {},
   "source": [
    "##### Problem 2-A: GPA Calculator\n",
    "\n",
    "At the University of Victoria, the normal full time course load is 5 courses, each considered 1.5 units, per term.  Thus, a student in a normal full time load is taking 7.5 units per term. \n",
    "\n",
    "The grades awarded for each course are reported by the professors as an integer number, called a *percentage grade*, in the range of $[0,100]$.  These percentage grades are converted to *letter grades* and *grade point values* using a __[table](https://web.uvic.ca/calendar2018-09/undergrad/info/regulations/grading.html)__ in the academic calendar.  \n",
    "\n",
    "A student's *Grade Point Average* (GPA) for a term is created by first multiplying the grade point value and units for each course and then summing the result then dividing by the sum of the units taken in the term.   \n",
    "\n",
    "Create a Python program that determines a student's letter grades and calculates and outputs the GPA, rounded to 1 decimal point, for the courses taken in one term.   For each course, the input will include both the number of units and student's percentage grade.  After inputting one course, the program will prompt to determine if there is another.  Although the university defines a number of different failing grades, for the purposes of this program, you can assume all percentage grades less than 50 will be awarded the letter grade F. \n",
    "\n",
    "Include a comment before your executable Python code that includes your name and ID number"
   ]
  },
  {
   "cell_type": "code",
   "execution_count": 1,
   "metadata": {
    "Assignment": "CSC110",
    "Number": 1
   },
   "outputs": [
    {
     "name": "stdout",
     "output_type": "stream",
     "text": [
      "G P A   C A L C U L C A T O R\n"
     ]
    }
   ],
   "source": [
    "# Program 2-A: GPA Calculator\n",
    "# Written by: Jordan Carlson\n",
    "# Date: October 1, 2018\n",
    "\n",
    "def main():\n",
    "\n",
    "#print titles and description of program\n",
    "\n",
    "    print(\"G P A   C A L C U L C A T O R \\n\")\n",
    "    print('  Determines a student\\'s letter grades and term GPA\\n')\n",
    "\n",
    "    \n",
    "    \n",
    "\n",
    "#designate variables for start of loop and subsequent calculations\n",
    "\n",
    "\n",
    "    another = 'y'\n",
    "    total = 0.0\n",
    "    unitstotal = 0.0\n",
    "    gpv = 0.0\n",
    "    \n",
    "#create a 'while' loop to indicate program to continue until 5 courses, or an input to discontinue\n",
    "    \n",
    "    while another == 'y':     #set loop continuance condition\n",
    "        print('\\nCourse Input:')      #print title of loop iteration\n",
    "        units = float(input('  Units: '))   #set input for units of each course\n",
    "        percent = int(input('  Grade (in percent) '))   #set input for entering percentage per course\n",
    "        total += percent    #add percentages of each course together for final calculation\n",
    "        unitstotal += units     #add units of each course together for final calculation\n",
    "        if percent >= 90:     #set if statement to determine grade per course\n",
    "            print('  Letter Grade =  A+\\n') #print letter grade from percent\n",
    "            gpv += (9 * units)     #designate grade point value per UVic's standards and add together for later calculation\n",
    "            another = input('Another Course? (y/n)') #ask user if there are more courses, and if so continue looping\n",
    "        elif percent >= 85 and percent <= 89: #continue above format per each letter grade and gpv\n",
    "            print('  Letter Grade =  A\\n')\n",
    "            gpv += (8 * units)\n",
    "            another = input('Another Course? (y/n)')\n",
    "        elif percent >= 80 and percent <= 84:\n",
    "            print('  Letter Grade =  A-\\n')\n",
    "            gpv += (7 * units)\n",
    "            another = input('Another Course? (y/n)')\n",
    "        elif percent >= 77 and percent <= 79:\n",
    "            print('  Letter Grade =  B+\\n')\n",
    "            gpv += (6 * units)\n",
    "            another = input('Another Course? (y/n)')\n",
    "        elif percent >= 73 and percent <= 76:\n",
    "            print('  Letter Grade =  B\\n')\n",
    "            gpv += (5 * units)\n",
    "            another = input('Another Course? (y/n)')\n",
    "        elif percent >= 70 and percent <= 72:\n",
    "            print('  Letter Grade =  B-\\n')\n",
    "            gpv += (4 * units)\n",
    "            another = input('Another Course? (y/n)')\n",
    "        elif percent >= 65 and percent <= 69:\n",
    "            print('  Letter Grade =  C+\\n')\n",
    "            gpv += (3 * units)\n",
    "            another = input('Another Course? (y/n)')\n",
    "        elif percent >= 60 and percent <= 64:\n",
    "            print('  Letter Grade =  C\\n')\n",
    "            gpv += (2 * units)\n",
    "            another = input('Another Course? (y/n)')\n",
    "        elif percent >= 50 and percent <= 59:\n",
    "            print('  Letter Grade =  D\\n')\n",
    "            gpv += (1 * units)\n",
    "            another = input('Another Course? (y/n)')\n",
    "        else:\n",
    "            print('  Letter Grade =  F\\n')\n",
    "            gpv += (0 * units)\n",
    "            another = input('Another Course? (y/n)')\n",
    "            \n",
    "    gpa = gpv/unitstotal #set variable for final calculation of gpa\n",
    "\n",
    "    print('GPA = ', format(gpa , '.1f')) #print final gpa \n",
    "\n",
    "if __name__ == '__main__':\n",
    "       main()"
   ]
  },
  {
   "cell_type": "markdown",
   "metadata": {},
   "source": [
    "### Program 2-B:  Star Figure\n",
    "\n",
    "Write a Python program that accepts an integer representing a height and then produces a figure, scalable by that height, conform to the examples below.  The program will use nested for loops controlled by the height input. There will also be a while loop controled my a user's input ('y' or 'n') indicating if the program keeps going.  \n",
    "\n",
    "Example: \n",
    "\n",
    "`S T A R   F I G U R E ` <br>\n",
    "` Creates a scalable Star Figure ` <br>\n",
    "` ` <br>\n",
    "`Input figure height ==>3` <br>\n",
    "` ` <br>\n",
    "`////////\\\\\\\\\\\\\\\\` <br>\n",
    "`////********\\\\\\\\` <br>\n",
    "`****************` <br>\n",
    "` ` <br>\n",
    "`Create another (y/n)? ==>y` <br>\n",
    "` ` <br>\n",
    "`Input figure height ==>6` <br>\n",
    "` ` <br>\n",
    "`////////////////////\\\\\\\\\\\\\\\\\\\\\\\\\\\\\\\\\\\\\\\\` <br>\n",
    "`////////////////********\\\\\\\\\\\\\\\\\\\\\\\\\\\\\\\\` <br>\n",
    "`////////////****************\\\\\\\\\\\\\\\\\\\\\\\\` <br>\n",
    "`////////************************\\\\\\\\\\\\\\\\` <br>\n",
    "`////********************************\\\\\\\\` <br>\n",
    "`****************************************` <br>\n",
    "` ` <br>\n",
    "`Create another (y/n)? ==>n` <br>\n",
    "\n",
    "Include a comment before your executable Python code that includes your name and ID number"
   ]
  },
  {
   "cell_type": "code",
   "execution_count": 2,
   "metadata": {
    "Assignment": "CSC110",
    "Number": 2
   },
   "outputs": [
    {
     "name": "stdout",
     "output_type": "stream",
     "text": [
      "S T A R   F I G U R E\n"
     ]
    }
   ],
   "source": [
    "# Program 2-B: Star Figure\n",
    "# Written by: Jordan Carlson\n",
    "# Date: October 1, 2018\n",
    "\n",
    "def main():\n",
    "\n",
    "#print titles and description of program\n",
    "\n",
    "    print('S T A R   F I G U R E')\n",
    "    print('Creates a scalable Star Figure')\n",
    "\n",
    "    \n",
    "    another = 'y'  #set condition used in loop as true for loop to initiate\n",
    "    \n",
    "    while another == 'y':   #call loop condition to execute iteration\n",
    "        print()   #add a space between loops\n",
    "        rows = int(input('Input figure height ==>'))   #ask what figure height to print\n",
    "        print()   #add a space after the input\n",
    "        for r in range(0, rows):     #set for loop to continue until figure height is reached\n",
    "            stars = '****' * r * 2             #set variables for stars, back-slashes, and forward-slashes\n",
    "            fs = '////' * ((rows - 1) - r)     # necessary to create figure with appropriate amount of each variable\n",
    "            bs = '\\\\\\\\\\\\\\\\' * ((rows - 1) - r)\n",
    "            print(fs, end='')       #figure with each variable\n",
    "            print(stars, end='')\n",
    "            print(bs, end='')\n",
    "            print()     \n",
    "        print()\n",
    "        another = input('Create another (y/n)? ==>')    #ask if loop should continue\n",
    " \n",
    "if __name__ == '__main__':\n",
    "    main()"
   ]
  },
  {
   "cell_type": "markdown",
   "metadata": {},
   "source": [
    "### Grading\n",
    "\n",
    "This assign is worth 4% of your course grade.  It will be graded as follows: \n",
    "- 1 mark: Program 2A runs without error\n",
    "- 2 marks: Program 2A produces outputs in exactly the same format as the Example Output\n",
    "- 1 mark: Program 2A includes programmer name, ID and current date and includes appropriate comments\n",
    "- 1 mark: Program 2A follows the style guidelines.\n",
    "- 1 mark: Program 2B runs without error\n",
    "- 2 marks: Program 2B produces outputs in exactly the same format as the Example Output\n",
    "- 1 mark: Program 2B includes programmer name, ID and current date and includes appropriate comments\n",
    "- 1 mark: Program 2B follows the style guidelines.\n",
    "\n",
    "\n",
    "### Submitting your Completed Solution\n",
    "\n",
    "Test your solutions carefully, (remember that your solutions need to be included in *this* notebook).   Log back into Connex and navigate to CSC 110's Assignments, Assignment 2.  Upload this notebook, decide on the honour pledge, then click submit.  \n",
    "\n",
    "After the notebook has been successfully submitted, an email message will be sent to your preferred UVIC email address.  You can *only* consider your submission successful after you have received this email.  Save this email (and all assignment submission emails) for the remainder of this course.  If there are any system questions regarding your submissions, these emails can serve as evidence.\n",
    "\n",
    "### Verifying your Submition\n",
    "\n",
    "After submitting, verification is recommended.  Download the file that you submitted on the computers in the lab (ECS 250) and test its execution using the Jupyter notebook installation on that computer.  \n",
    "\n",
    "FYI:  The computers in ECS 250 are considered the canonical (or correct) configuration for the CSC 110 course assignments.  That means, if there is any difference between the execution of your assignment on the computers used by the markers and the ECS 250 computers, the execution on the ECS 250 computers will overrule.   "
   ]
  }
 ],
 "metadata": {
  "kernelspec": {
   "display_name": "Python 3",
   "language": "python",
   "name": "python3"
  },
  "language_info": {
   "codemirror_mode": {
    "name": "ipython",
    "version": 3
   },
   "file_extension": ".py",
   "mimetype": "text/x-python",
   "name": "python",
   "nbconvert_exporter": "python",
   "pygments_lexer": "ipython3",
   "version": "3.6.4"
  }
 },
 "nbformat": 4,
 "nbformat_minor": 2
}
